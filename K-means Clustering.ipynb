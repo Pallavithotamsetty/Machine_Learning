{
 "cells": [
  {
   "cell_type": "code",
   "execution_count": 12,
   "id": "8ae473c1",
   "metadata": {},
   "outputs": [],
   "source": [
    "import numpy as np\n",
    "import matplotlib.pyplot as plt\n",
    "class KMeans:\n",
    "    def __init__(self, k=2, max_iters=100, tol=1e-4):\n",
    "        self.k = k\n",
    "        self.max_iters = max_iters\n",
    "        self.tol = tol  # tolerance to stop when centroids stop changing\n",
    "        self.centroids = None\n",
    "        self.labels = None\n",
    "\n",
    "    def fit(self, X):\n",
    "        # Step 1: Randomly pick k points as initial centroids\n",
    "        np.random.seed(42)\n",
    "        indices = np.random.choice(len(X), self.k, replace=False)\n",
    "        self.centroids = X[indices]\n",
    "\n",
    "        for i in range(self.max_iters):\n",
    "            # Step 2: Assign each point to the closest centroid\n",
    "            distances = self._compute_distances(X)\n",
    "            self.labels = np.argmin(distances, axis=1)\n",
    "\n",
    "            # Step 3: Calculate new centroids\n",
    "            new_centroids = np.array([X[self.labels == j].mean(axis=0) for j in range(self.k)])\n",
    "\n",
    "            # Step 4: Check for convergence (small centroid movement)\n",
    "            if np.all(np.linalg.norm(self.centroids - new_centroids, axis=1) < self.tol):\n",
    "                break\n",
    "\n",
    "            self.centroids = new_centroids\n",
    "\n",
    "    def _compute_distances(self, X):\n",
    "        # Compute the Euclidean distance from each point to each centroid\n",
    "        return np.linalg.norm(X[:, np.newaxis] - self.centroids, axis=2)\n",
    "\n",
    "    def predict(self, X):\n",
    "        # Assign new points to nearest centroid\n",
    "        X = np.array(X)\n",
    "        distances = self._compute_distances(X)\n",
    "        return np.argmin(distances, axis=1)"
   ]
  },
  {
   "cell_type": "code",
   "execution_count": 15,
   "id": "e51af706",
   "metadata": {},
   "outputs": [
    {
     "name": "stdout",
     "output_type": "stream",
     "text": [
      "Centroids: [[ 5.7   7.7 ]\n",
      " [ 8.98 10.64]\n",
      " [ 1.16  1.44]]\n",
      "Labels: [2 2 2 2 2 0 0 0 0 0 1 1 1 1 1]\n",
      "New point cluster: [2]\n"
     ]
    },
    {
     "data": {
      "image/png": "[encoded data removed]",
      "text/plain": [
       "<Figure size 640x480 with 1 Axes>"
      ]
     },
     "metadata": {},
     "output_type": "display_data"
    }
   ],
   "source": [
    "X = np.array([\n",
    "    # Cluster A\n",
    "    [1.0, 2.0],\n",
    "    [1.5, 1.8],\n",
    "    [1.2, 0.9],\n",
    "    [0.8, 1.0],\n",
    "    [1.3, 1.5],\n",
    "    \n",
    "    # Cluster B\n",
    "    [5.0, 8.0],\n",
    "    [6.0, 8.0],\n",
    "    [5.5, 7.5],\n",
    "    [6.2, 6.8],\n",
    "    [5.8, 8.2],\n",
    "    \n",
    "    # Cluster C\n",
    "    [9.0, 11.0],\n",
    "    [8.5, 10.5],\n",
    "    [9.5, 9.8],\n",
    "    [8.8, 11.2],\n",
    "    [9.1, 10.7]\n",
    "])\n",
    "\n",
    "kmeans = KMeans(k=3)\n",
    "kmeans.fit(X)\n",
    "\n",
    "print(\"Centroids:\", kmeans.centroids)\n",
    "print(\"Labels:\", kmeans.labels)\n",
    "\n",
    "# Predict new data point\n",
    "print(\"New point cluster:\", kmeans.predict([[0.9, 2.0]]))\n",
    "\n",
    "for i in range(kmeans.k):\n",
    "    cluster_points = X[kmeans.labels == i]\n",
    "    plt.scatter(cluster_points[:, 0], cluster_points[:, 1], label=f\"Cluster {i}\")\n",
    "    \n",
    "plt.scatter(kmeans.centroids[:, 0], kmeans.centroids[:, 1], c='black', marker='X', s=200, label=\"Centroids\")\n",
    "plt.legend()\n",
    "plt.title(\"K-Means Clustering\")\n",
    "plt.show()\n"
   ]
  },
  {
   "cell_type": "code",
   "execution_count": null,
   "id": "e0f91848",
   "metadata": {},
   "outputs": [],
   "source": []
  },
  {
   "cell_type": "code",
   "execution_count": null,
   "id": "d8269961",
   "metadata": {},
   "outputs": [],
   "source": []
  }
 ],
 "metadata": {
  "kernelspec": {
   "display_name": "ml",
   "language": "python",
   "name": "python3"
  },
  "language_info": {
   "codemirror_mode": {
    "name": "ipython",
    "version": 3
   },
   "file_extension": ".py",
   "mimetype": "text/x-python",
   "name": "python",
   "nbconvert_exporter": "python",
   "pygments_lexer": "ipython3",
   "version": "3.11.9"
  }
 },
 "nbformat": 4,
 "nbformat_minor": 5
}
