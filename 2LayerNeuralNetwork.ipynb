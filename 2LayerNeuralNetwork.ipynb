{
 "cells": [
  {
   "cell_type": "code",
   "execution_count": 1,
   "id": "f7142189",
   "metadata": {},
   "outputs": [],
   "source": [
    "import numpy as np\n"
   ]
  },
  {
   "cell_type": "code",
   "execution_count": 2,
   "id": "5673532a",
   "metadata": {},
   "outputs": [],
   "source": [
    "def ReLU(z):\n",
    "    return np.maximum(0,z)\n",
    "def ReLU_derivative(z):\n",
    "    return (z > 0).astype(float)"
   ]
  },
  {
   "cell_type": "code",
   "execution_count": 4,
   "id": "5f8f7d97",
   "metadata": {},
   "outputs": [],
   "source": [
    "def sigmoid(z):\n",
    "    return 1/(1+np.exp(-z))\n",
    "def sigmoid_derivative(z):\n",
    "    s=sigmoid(z)\n",
    "    return s *(1-s)"
   ]
  },
  {
   "cell_type": "code",
   "execution_count": 24,
   "id": "f16c6afd",
   "metadata": {},
   "outputs": [],
   "source": [
    "def compute_loss(y,y_pred):\n",
    "    m=y.shape[0]\n",
    "    loss_per_sample = (-1 * y * np.log(y_pred)) - ((1 - y) * np.log(1 - y_pred))\n",
    "    return np.sum(loss_per_sample)/m\n"
   ]
  },
  {
   "cell_type": "code",
   "execution_count": 25,
   "id": "9e2c2d59",
   "metadata": {},
   "outputs": [],
   "source": [
    "def initialize_params(input_size, hiddenlayer_size, outputlayer_size):\n",
    "\n",
    "# random initialization of parameters\n",
    "\n",
    "  params = {\n",
    "      'W1': np.random.randn(input_size, hiddenlayer_size) * 0.01,\n",
    "      'b1': np.zeros((1, hiddenlayer_size)),\n",
    "      'W2': np.random.randn(hiddenlayer_size, outputlayer_size) * 0.01,\n",
    "      'b2': np.zeros((1, outputlayer_size))\n",
    "  }\n",
    "\n",
    "  return params"
   ]
  },
  {
   "cell_type": "code",
   "execution_count": 26,
   "id": "ebf370e2",
   "metadata": {},
   "outputs": [],
   "source": [
    "\"\"\"\n",
    "Performs forward propagation through a 2-layer neural network.\n",
    "\n",
    "Args:\n",
    "    input (ndarray): Input data of shape (m, input_dim)\n",
    "    params (dict): Dictionary containing weights and biases:\n",
    "                   - 'W1': weights for layer 1 (input to hidden)\n",
    "                   - 'b1': bias for layer 1\n",
    "                   - 'W2': weights for layer 2 (hidden to output)\n",
    "                   - 'b2': bias for layer 2\n",
    "\n",
    "Returns:\n",
    "    y_cap (ndarray): Predicted output after sigmoid activation (A2)\n",
    "    A1 (ndarray): Activation from hidden layer (after ReLU)\n",
    "    A2 (ndarray): Output layer activation (after sigmoid)\n",
    "    Z1 (ndarray): Linear combination before ReLU (used in backpropagation)\n",
    "\"\"\"\n",
    "\n",
    "\n",
    "def forward_pass(input, params):\n",
    "\n",
    "  Z1 = input @ params['W1'] + params['b1']\n",
    "  A1 = ReLU(Z1)\n",
    "\n",
    "  Z2 = A1 @ params['W2'] + params['b2']\n",
    "  A2 = sigmoid(Z2)\n",
    "\n",
    "  y_cap = A2\n",
    "\n",
    "  return y_cap, A1, A2, Z1"
   ]
  },
  {
   "cell_type": "code",
   "execution_count": 27,
   "id": "f9b05912",
   "metadata": {},
   "outputs": [],
   "source": [
    "def backpropagation(X, y_cap, y, A1, Z1, params):\n",
    "\n",
    "  m = y.shape[0]\n",
    "\n",
    "  dZ2 = y_cap - y\n",
    "  dW2 = (A1.T @ dZ2) / m\n",
    "  db2 = np.sum(dZ2, axis = 0, keepdims = True) / m\n",
    "\n",
    "  dA1 = dZ2 @  params['W2'].T\n",
    "  dZ1 = dA1 * ReLU_derivative(Z1)\n",
    "  dW1 = (X.T @ dZ1) / m\n",
    "  db1 = np.sum(dZ1, axis = 0, keepdims=True) / m\n",
    "\n",
    "  return dW1, dW2, db1, db2"
   ]
  },
  {
   "cell_type": "code",
   "execution_count": 28,
   "id": "144c21c1",
   "metadata": {},
   "outputs": [],
   "source": [
    "\"\"\"\n",
    "    Updates neural network parameters using gradient descent.\n",
    "\n",
    "    Args:\n",
    "        dW1, dW2: Gradients of weights\n",
    "        db1, db2: Gradients of biases\n",
    "        params (dict): Current parameters to be updated\n",
    "        learning_rate (float): Learning rate for gradient descent\n",
    "\n",
    "    Returns:\n",
    "        dict: Updated parameters\n",
    "    \"\"\"\n",
    "\n",
    "def update_params(dW1, dW2, db1, db2, params, learning_rate):\n",
    "    new_params = {}\n",
    "    new_params['W1'] = params['W1'] - learning_rate * dW1\n",
    "    new_params['W2'] = params['W2'] - learning_rate * dW2\n",
    "    new_params['b1'] = params['b1'] - learning_rate * db1\n",
    "    new_params['b2'] = params['b2'] - learning_rate * db2\n",
    "\n",
    "    return new_params\n"
   ]
  },
  {
   "cell_type": "code",
   "execution_count": 29,
   "id": "361ea841",
   "metadata": {},
   "outputs": [],
   "source": [
    "\"\"\"\n",
    "Trains a 2-layer neural network using batch gradient descent.\n",
    "\n",
    "Args:\n",
    "    X (ndarray): Input data of shape (m, input_size), where m is the number of samples.\n",
    "    y (ndarray): Ground truth labels of shape (m, 1).\n",
    "    input_size (int): Number of input features.\n",
    "    hidden_layer_size (int): Number of neurons in the hidden layer.\n",
    "    output_size (int): Number of output neurons (typically 1 for binary classification).\n",
    "    epochs (int): Number of iterations to train the network.\n",
    "    learning_rate (float): Step size used to update the parameters.\n",
    "\n",
    "Returns:\n",
    "    dict: A dictionary containing the trained network parameters:\n",
    "          - 'W1': Weights from input to hidden layer.\n",
    "          - 'b1': Biases for hidden layer.\n",
    "          - 'W2': Weights from hidden to output layer.\n",
    "          - 'b2': Biases for output layer.\n",
    "\n",
    "Prints:\n",
    "    Loss value every 100 epochs to track training progress.\n",
    "\"\"\"\n",
    "\n",
    "import matplotlib.pyplot as plt\n",
    "def train(X,y, input_size, hidden_layer_size,output_size, epochs, learning_rate):\n",
    "\n",
    "  m, n = X.shape\n",
    "  params = initialize_params(input_size, hidden_layer_size, output_size)\n",
    "  losses = []\n",
    "  for _ in range(epochs):\n",
    "\n",
    "    y_cap, A1, A2, Z1 = forward_pass(X, params )\n",
    "    loss = compute_loss(y, y_cap)\n",
    "    losses.append(loss)\n",
    "    dW1, dW2, db1, db2 = backpropagation(X, y_cap, y, A1, Z1, params)\n",
    "\n",
    "\n",
    "    params = update_params(dW1, dW2, db1, db2, params, learning_rate)\n",
    "    if _ % 50 == 0:\n",
    "      print(\"W1[0][0] =\", params[\"W1\"][0][0])\n",
    "\n",
    "      print(f\"Epoch {_}, Loss: {loss.item():.4f}\")\n",
    "\n",
    "  scalar_losses = [l.item() for l in losses]\n",
    "  plt.plot(losses)\n",
    "  plt.xlabel(\"Epoch\")\n",
    "  plt.ylabel(\"Loss\")\n",
    "  plt.title(\"Training Loss Curve\")\n",
    "  plt.show()\n",
    "\n",
    "  return params"
   ]
  },
  {
   "cell_type": "code",
   "execution_count": 30,
   "id": "6eb35960",
   "metadata": {},
   "outputs": [],
   "source": [
    "def predict(X, trained_params, threshold=0.5):\n",
    "    \"\"\"\n",
    "    Predict binary labels for input data X using a trained 2-layer neural network.\n",
    "\n",
    "    Parameters:\n",
    "    - X: input data of shape (n_samples, n_features)\n",
    "    - W1, b1: weights and bias of first layer\n",
    "    - W2, b2: weights and bias of second/output layer\n",
    "    - threshold: classification threshold for converting probabilities to 0 or 1\n",
    "\n",
    "    Returns:\n",
    "    - y_prob: predicted probabilities\n",
    "    - y_pred: binary predictions (0 or 1)\n",
    "    \"\"\"\n",
    "    Z1 = np.dot(X, trained_params['W1']) + trained_params['b1']\n",
    "    A1 = ReLU(Z1)\n",
    "\n",
    "    Z2 = np.dot(A1, trained_params['W2']) + trained_params['b2']\n",
    "    A2 = sigmoid(Z2)\n",
    "\n",
    "    y_prob = A2\n",
    "    y_pred = (A2 >= threshold).astype(int)\n",
    "\n",
    "    return y_prob, y_pred"
   ]
  },
  {
   "cell_type": "code",
   "execution_count": 31,
   "id": "c26054bf",
   "metadata": {},
   "outputs": [],
   "source": [
    "\n",
    "import numpy as np\n",
    "\n",
    "# Input features (X) for XOR: 4 samples, 2 features each\n",
    "X = np.array([\n",
    "    [0, 0],\n",
    "    [0, 1],\n",
    "    [1, 0],\n",
    "    [1, 1]\n",
    "])\n",
    "\n",
    "# Labels (y) for XOR (output is 1 only if inputs differ)\n",
    "y = np.array([\n",
    "    [0],\n",
    "    [1],\n",
    "    [1],\n",
    "    [0]\n",
    "])"
   ]
  },
  {
   "cell_type": "code",
   "execution_count": 32,
   "id": "69c77e5d",
   "metadata": {},
   "outputs": [],
   "source": [
    "\n",
    "input_size = 2\n",
    "hidden_layer_size = 5\n",
    "output_size = 1"
   ]
  },
  {
   "cell_type": "code",
   "execution_count": 33,
   "id": "bdc0e6aa",
   "metadata": {},
   "outputs": [
    {
     "name": "stdout",
     "output_type": "stream",
     "text": [
      "W1[0][0] = 0.02450175485712357\n",
      "Epoch 0, Loss: 0.6932\n",
      "W1[0][0] = 0.024489056711249197\n",
      "Epoch 50, Loss: 0.6930\n",
      "W1[0][0] = 0.05207804638623243\n",
      "Epoch 100, Loss: 0.6916\n",
      "W1[0][0] = 0.14956716925781466\n",
      "Epoch 150, Loss: 0.6808\n",
      "W1[0][0] = 0.363444127462086\n",
      "Epoch 200, Loss: 0.6263\n",
      "W1[0][0] = 0.6320762848821158\n",
      "Epoch 250, Loss: 0.5347\n",
      "W1[0][0] = 0.7929496897497428\n",
      "Epoch 300, Loss: 0.4986\n",
      "W1[0][0] = 0.8839670832350921\n",
      "Epoch 350, Loss: 0.4875\n",
      "W1[0][0] = 0.9349181885473334\n",
      "Epoch 400, Loss: 0.4841\n",
      "W1[0][0] = 0.9711473613275631\n",
      "Epoch 450, Loss: 0.4819\n",
      "W1[0][0] = 1.0185362465602055\n",
      "Epoch 500, Loss: 0.4806\n",
      "W1[0][0] = 1.0474608774103347\n",
      "Epoch 550, Loss: 0.4800\n",
      "W1[0][0] = 1.0622198735721495\n",
      "Epoch 600, Loss: 0.4795\n",
      "W1[0][0] = 1.0685902139019887\n",
      "Epoch 650, Loss: 0.4791\n",
      "W1[0][0] = 1.1112779696485302\n",
      "Epoch 700, Loss: 0.4788\n",
      "W1[0][0] = 1.1037745597705568\n",
      "Epoch 750, Loss: 0.4785\n",
      "W1[0][0] = 1.1375170152377339\n",
      "Epoch 800, Loss: 0.4786\n",
      "W1[0][0] = 1.1220122272698752\n",
      "Epoch 850, Loss: 0.4784\n",
      "W1[0][0] = 1.1491285363489745\n",
      "Epoch 900, Loss: 0.4783\n",
      "W1[0][0] = 1.1274889969144233\n",
      "Epoch 950, Loss: 0.4783\n"
     ]
    },
    {
     "data": {
      "image/png": "[encoded data removed]",
      "text/plain": [
       "<Figure size 640x480 with 1 Axes>"
      ]
     },
     "metadata": {},
     "output_type": "display_data"
    }
   ],
   "source": [
    "trained_params = train(X, y, input_size, hidden_layer_size, output_size, epochs=1000, learning_rate=0.3)"
   ]
  },
  {
   "cell_type": "code",
   "execution_count": 34,
   "id": "af2282d1",
   "metadata": {},
   "outputs": [],
   "source": [
    "y_prob, y_pred = predict(X, trained_params)"
   ]
  },
  {
   "cell_type": "code",
   "execution_count": 35,
   "id": "1e9dcdb4",
   "metadata": {},
   "outputs": [
    {
     "name": "stdout",
     "output_type": "stream",
     "text": [
      "[[0.6656502]\n",
      " [0.6656502]\n",
      " [0.6656502]\n",
      " [0.0027104]]\n"
     ]
    }
   ],
   "source": [
    "print(y_prob)"
   ]
  },
  {
   "cell_type": "code",
   "execution_count": 36,
   "id": "63c6417d",
   "metadata": {},
   "outputs": [
    {
     "name": "stdout",
     "output_type": "stream",
     "text": [
      "[[1]\n",
      " [1]\n",
      " [1]\n",
      " [0]]\n"
     ]
    }
   ],
   "source": [
    "\n",
    "print(y_pred)"
   ]
  },
  {
   "cell_type": "code",
   "execution_count": null,
   "id": "21510f15",
   "metadata": {},
   "outputs": [],
   "source": []
  }
 ],
 "metadata": {
  "kernelspec": {
   "display_name": "ml",
   "language": "python",
   "name": "python3"
  },
  "language_info": {
   "codemirror_mode": {
    "name": "ipython",
    "version": 3
   },
   "file_extension": ".py",
   "mimetype": "text/x-python",
   "name": "python",
   "nbconvert_exporter": "python",
   "pygments_lexer": "ipython3",
   "version": "3.11.9"
  }
 },
 "nbformat": 4,
 "nbformat_minor": 5
}
