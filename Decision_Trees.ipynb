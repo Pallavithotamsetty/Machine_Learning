{
 "cells": [
  {
   "cell_type": "code",
   "execution_count": null,
   "id": "a5ff610f",
   "metadata": {},
   "outputs": [],
   "source": [
    "import numpy as np\n",
    "class Node:\n",
    "    def __init__(self, feature=None, threshold=None, left=None, right=None, value=None):\n",
    "        self.feature = feature\n",
    "        self.threshold = threshold\n",
    "        self.left = left\n",
    "        self.right = right\n",
    "        self.value = value # only leaf nodes have value\n",
    "class DecisionTree():\n",
    "    def __init__(self):\n",
    "        self.root=None\n",
    "    def _entropy(self,y):\n",
    "        classes,count=np.unique(y,return_counts=True)\n",
    "        prob=count/len(y)\n",
    "        return -np.sum(prob*np.log2(prob+1e-9)) #avoids taking log(0), which causes errors.\n",
    "    def _split(self ,X,y,feature_index,threshold):\n",
    "        leftmask=X[:,feature_index]<=threshold\n",
    "        rightmask=~leftmask\n",
    "        return X[leftmask],y[leftmask],X[rightmask],y[rightmask]\n",
    "    def best_split(self,X,y):\n",
    "        best_gain=-1\n",
    "        best_feature=None\n",
    "        best_threshold=None\n",
    "        parententropy=self._entropy(y)\n",
    "        n_features=X.shape[1]\n",
    "        for feature_index in range(n_features):\n",
    "            thresholds = np.unique(X[:, feature_index])\n",
    "            for threshold in thresholds:\n",
    "                X_left, y_left, X_right, y_right = self._split(X, y, feature_index, threshold)\n",
    "                if len(y_left) == 0 or len(y_right) == 0:\n",
    "                    continue\n",
    "                left_entropy = self._entropy(y_left)\n",
    "                right_entropy = self._entropy(y_right)\n",
    "                weighted_entropy = (len(y_left) / len(y)) * left_entropy + (len(y_right) / len(y)) * right_entropy\n",
    "                info_gain = parententropy - weighted_entropy\n",
    "                if info_gain > best_gain:\n",
    "                    best_gain = info_gain\n",
    "                    best_feature = feature_index\n",
    "                    best_threshold = threshold\n",
    "        return best_feature, best_threshold\n",
    "    def _build_tree(self,X,y,depth=0,max_depth=3):\n",
    "        # If all labels are the same or max depth is reached, return a leaf node\n",
    "        if len(set(y)) == 1 or depth >= max_depth:\n",
    "            leaf_value = max(set(y), key=list(y).count)\n",
    "            return Node(value=leaf_value)\n",
    "        feature, threshold = self.best_split(X, y)\n",
    "        if feature is None:  #if we dont get nice info gain it is better to stop spliting their so return the node\n",
    "            leaf_value = max(set(y), key=list(y).count)\n",
    "            return Node(value=leaf_value)\n",
    "        X_left, y_left, X_right, y_right = self._split(X, y, feature, threshold)\n",
    "        left_child = self._build_tree(X_left, y_left, depth + 1, max_depth)\n",
    "        right_child = self._build_tree(X_right, y_right, depth + 1, max_depth)\n",
    "\n",
    "        return Node(feature, threshold, left_child, right_child)\n",
    "    def predict_sample(self,node, sample):\n",
    "        if node.value is not None:\n",
    "            return node.value\n",
    "        if sample[node.feature] <= node.threshold:\n",
    "            return self.predict_sample(node.left, sample)\n",
    "        else:\n",
    "            return self.predict_sample(node.right, sample)\n",
    "    def predict(self, X):\n",
    "        return [self.predict_sample(self.root, sample) for sample in X]\n",
    "    def fit(self, X, y, max_depth=3):\n",
    "        self.root = self._build_tree(X, y, 0, max_depth)"
   ]
  },
  {
   "cell_type": "code",
   "execution_count": 21,
   "id": "d89b1da5",
   "metadata": {},
   "outputs": [],
   "source": [
    "X = np.array([[1, 1], [2, 1], [3, 2], [6, 5], [7, 8], [8, 9]])\n",
    "y = np.array([0, 0, 0, 1, 1, 1])"
   ]
  },
  {
   "cell_type": "code",
   "execution_count": 22,
   "id": "62080209",
   "metadata": {},
   "outputs": [
    {
     "name": "stdout",
     "output_type": "stream",
     "text": [
      "Predictions: [np.int64(0), np.int64(0), np.int64(0), np.int64(1), np.int64(1), np.int64(1)]\n"
     ]
    }
   ],
   "source": [
    "tree = DecisionTree()\n",
    "tree.fit(X, y, max_depth=3)\n",
    "\n",
    "print(\"Predictions:\", tree.predict(X))"
   ]
  },
  {
   "cell_type": "code",
   "execution_count": 23,
   "id": "d14522df",
   "metadata": {},
   "outputs": [],
   "source": [
    "# Features: [Age, Salary]\n",
    "X = np.array([\n",
    "    [22, 25],\n",
    "    [25, 30],\n",
    "    [47, 60],\n",
    "    [52, 80],\n",
    "    [46, 50],\n",
    "    [56, 90],\n",
    "    [28, 40],\n",
    "    [30, 60]\n",
    "])\n",
    "\n",
    "# Target: 0 = No, 1 = Yes\n",
    "y = np.array([0, 0, 1, 1, 1, 1, 0, 0])"
   ]
  },
  {
   "cell_type": "code",
   "execution_count": 24,
   "id": "10313353",
   "metadata": {},
   "outputs": [
    {
     "name": "stdout",
     "output_type": "stream",
     "text": [
      "Predictions: [np.int64(0), np.int64(0), np.int64(1), np.int64(1), np.int64(1), np.int64(1), np.int64(0), np.int64(0)]\n",
      "Actual:      [0, 0, 1, 1, 1, 1, 0, 0]\n"
     ]
    }
   ],
   "source": [
    "tree = DecisionTree()\n",
    "tree.fit(X, y, max_depth=3)\n",
    "\n",
    "predictions = tree.predict(X)\n",
    "print(\"Predictions:\", predictions)\n",
    "print(\"Actual:     \", y.tolist())"
   ]
  },
  {
   "cell_type": "markdown",
   "id": "4b14a5d0",
   "metadata": {},
   "source": [
    "In classic decision tree algorithms (like ID3, C4.5, or CART):\n",
    "\n",
    "- Each split is made independently.\n",
    "\n",
    "- At every node, we search all features and all thresholds again.\n",
    "\n",
    "- If the same feature is still the best choice, we use it again.\n",
    "\n",
    "if you want to prevent using the same feature again (e.g., for some educational or constrained reason), you'd need to:\n",
    "\n",
    "- Track used features, and\n",
    "\n",
    "- Remove them from the candidate list in best_split().\n",
    "\n",
    "\n"
   ]
  }
 ],
 "metadata": {
  "kernelspec": {
   "display_name": "ml",
   "language": "python",
   "name": "python3"
  },
  "language_info": {
   "codemirror_mode": {
    "name": "ipython",
    "version": 3
   },
   "file_extension": ".py",
   "mimetype": "text/x-python",
   "name": "python",
   "nbconvert_exporter": "python",
   "pygments_lexer": "ipython3",
   "version": "3.11.9"
  }
 },
 "nbformat": 4,
 "nbformat_minor": 5
}
